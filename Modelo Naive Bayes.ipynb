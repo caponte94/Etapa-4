{
 "cells": [
  {
   "cell_type": "code",
   "execution_count": null,
   "metadata": {},
   "outputs": [],
   "source": [
    "import numpy as np\n",
    "from sklearn.naive_bayes import GaussianNB\n",
    "import pandas as pd\n",
    "from sklearn import metrics\n",
    "from sklearn.preprocessing import LabelEncoder\n",
    "from sklearn.model_selection import train_test_split\n",
    "\n",
    "# Cargar el conjunto de datos\n",
    "pd.read_csv(\"covid.csv\")\n",
    "df = pd.read_csv(\"covid.csv\")\n",
    "df.head()\n",
    "\n",
    "eliminar_columnas = ['id', 'patient_type','entry_date','date_symptoms','date_died','other_disease','icu']\n",
    "df.drop(eliminar_columnas, axis=1, inplace=True)\n",
    "df.head()\n",
    "\n",
    "df=df[df['covid_res']!= 3]\n",
    "df=df[df['contact_other_covid']!= 99]\n",
    "df=df[df['tobacco']!= 98]\n",
    "df=df[df['obesity']!= 98]\n",
    "df=df[df['copd']!= 98]\n",
    "df=df[df['diabetes']!= 98]\n",
    "df=df[df['asthma']!= 98]\n",
    "df=df[df['inmsupr']!= 98]\n",
    "df=df[df['hypertension']!= 98]\n",
    "df=df[df['cardiovascular']!= 98]\n",
    "df=df[df['renal_chronic']!= 98]\n",
    "df=df[df['intubed']!= 98]\n",
    "df=df[df['pregnancy']!= 98]\n",
    "df=df[df['pneumonia']!= 98]"
   ]
  },
  {
   "cell_type": "code",
   "execution_count": null,
   "metadata": {},
   "outputs": [],
   "source": [
    "X = df.drop('covid_res', axis=1)\n",
    "y = df['covid_res']"
   ]
  },
  {
   "cell_type": "code",
   "execution_count": null,
   "metadata": {},
   "outputs": [],
   "source": [
    "#dividimos los datos en conjuntos de entrenamiento y prueba\n",
    "X_train, X_test, y_train, y_test = train_test_split(X, y, test_size=0.3, random_state=42)"
   ]
  },
  {
   "cell_type": "code",
   "execution_count": null,
   "metadata": {},
   "outputs": [],
   "source": [
    "GaussianNB()\n",
    "naive_bayes(X_train, y_train)"
   ]
  },
  {
   "cell_type": "code",
   "execution_count": null,
   "metadata": {},
   "outputs": [],
   "source": [
    "#Evaluamos el desempeño del modelo\n",
    "accuracy = accuracy_score(y_test, y_pred)\n",
    "print(\"La presicion del modelo es: {:.2f}% \".format(accuracy*100))"
   ]
  },
  {
   "cell_type": "code",
   "execution_count": null,
   "metadata": {},
   "outputs": [],
   "source": [
    "import matplotlib.pyplot as plt\n",
    "from sklearn.metrics import confusion_matrix\n",
    "import seaborn as sns\n",
    "\n",
    "#obtener las predicciones en el conjunto de prueba\n",
    "y_pred = naive_bayes.predict(X_test)\n",
    "\n",
    "#Crear la matriz de confusion\n",
    "cm = confusion_matrix(y_test, y_pred)\n",
    "#Graficas la matriz de confusion\n",
    "sns.heatmap(cm, annot=True, fmt='g')\n",
    "\n",
    "plt.xlabel('Predicted')\n",
    "plt.ylabel('Actual')\n",
    "plt.show()"
   ]
  },
  {
   "cell_type": "code",
   "execution_count": null,
   "metadata": {},
   "outputs": [],
   "source": [
    "#Crear una fila con los datos del usuario\n",
    "usuario = pd.DataFrame({\n",
    "    'sex':2,\n",
    "    'intubed':2,\n",
    "    'pneumonia':2,\n",
    "    'age':35,\n",
    "    'pregnancy':2,\n",
    "    'diabetes':2,\n",
    "    'copd':2,\n",
    "    'asthma':2,\n",
    "    'inmsupr':2,\n",
    "    'hypertension':2,\n",
    "    'cardiovascular':2,\n",
    "    'obesity':2,\n",
    "    'renal_chronic':2,\n",
    "    'tobacco':2,\n",
    "    'contact_other_covid':2,\n",
    "}, index=[0])"
   ]
  },
  {
   "cell_type": "code",
   "execution_count": null,
   "metadata": {},
   "outputs": [],
   "source": [
    "#Realizar prediccion.\n",
    "probabilidad= naive_bayes.predict_proba(usuario)[0][1]\n",
    "\n",
    "#Imprimir el resultado de la probabilidad\n",
    "print(\"Probabilidad de COVID 19:{:2..f}%\".format(probabilidad*100))"
   ]
  },
  {
   "cell_type": "code",
   "execution_count": null,
   "metadata": {},
   "outputs": [],
   "source": []
  }
 ],
 "metadata": {
  "kernelspec": {
   "display_name": "Python 3",
   "language": "python",
   "name": "python3"
  },
  "language_info": {
   "codemirror_mode": {
    "name": "ipython",
    "version": 3
   },
   "file_extension": ".py",
   "mimetype": "text/x-python",
   "name": "python",
   "nbconvert_exporter": "python",
   "pygments_lexer": "ipython3",
   "version": "3.8.10"
  }
 },
 "nbformat": 4,
 "nbformat_minor": 4
}
